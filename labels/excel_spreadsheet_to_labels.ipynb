{
 "cells": [
  {
   "attachments": {},
   "cell_type": "markdown",
   "metadata": {},
   "source": [
    "Script must be run in same directory as data source (i.e., Excel spreadsheet of map labels)."
   ]
  },
  {
   "cell_type": "code",
   "execution_count": 1,
   "metadata": {},
   "outputs": [],
   "source": [
    "# Define variables; then, run script\n",
    "filename_of_input_labels_spreadsheet = 'labels.xlsx' # Include file extension\n",
    "name_of_field_for_call_number = 'call_number'\n",
    "name_of_field_for_description = 'description'\n",
    "name_of_field_for_sheet_range = 'sheet_range'\n",
    "name_of_field_for_scale = 'scale'\n",
    "desired_name_for_combined_sheet_range_and_scale_field = 'sheet_range_and_scale'\n",
    "filename_of_output_labels_spreadsheet = 'labels_manipulated.xlsx' # Include file extension"
   ]
  },
  {
   "cell_type": "code",
   "execution_count": 2,
   "metadata": {},
   "outputs": [],
   "source": [
    "# Import required libraries\n",
    "import pandas as pd\n",
    "import xlsxwriter"
   ]
  },
  {
   "cell_type": "code",
   "execution_count": 3,
   "metadata": {},
   "outputs": [],
   "source": [
    "# Read labels Excel file into a pandas DataFrame\n",
    "df = pd.read_excel(filename_of_input_labels_spreadsheet)"
   ]
  },
  {
   "cell_type": "code",
   "execution_count": 4,
   "metadata": {},
   "outputs": [],
   "source": [
    "# Combine values of 'sheet_range' and 'scale' fields, using return to separate values on different lines\n",
    "# df[desired_name_for_combined_sheet_range_and_scale_field] = df[name_of_field_for_sheet_range].str.cat(df[name_of_field_for_scale], sep = '\\n', na_rep = '')\n",
    "df[desired_name_for_combined_sheet_range_and_scale_field] = df[[name_of_field_for_sheet_range, name_of_field_for_scale]].apply(lambda x: '\\n'.join(x.dropna()), axis = 1)"
   ]
  },
  {
   "cell_type": "code",
   "execution_count": 5,
   "metadata": {},
   "outputs": [],
   "source": [
    "# Drop 'sheet_range' and 'scale' fields, as they are no longer needed\n",
    "df = df.drop(columns = [name_of_field_for_sheet_range, name_of_field_for_scale])"
   ]
  },
  {
   "cell_type": "code",
   "execution_count": 6,
   "metadata": {},
   "outputs": [],
   "source": [
    "# Increment each index value by one\n",
    "df.index = [i + 1 for i in df.index]"
   ]
  },
  {
   "cell_type": "code",
   "execution_count": 7,
   "metadata": {},
   "outputs": [],
   "source": [
    "# Create empty DataFrame\n",
    "empty_df = pd.DataFrame(\n",
    "    index = range(0, len(df)),\n",
    "    columns = ['left_spacer', 'middle_left_spacer', 'middle_right_spacer', 'right_spacer'], # 'Spacer' columns within Excel file\n",
    "    data = ''\n",
    ")"
   ]
  },
  {
   "cell_type": "code",
   "execution_count": 8,
   "metadata": {},
   "outputs": [],
   "source": [
    "# Create second empty DataFrame\n",
    "empty_df2 = pd.DataFrame(\n",
    "    index = range(1, len(df) + 1),\n",
    "    columns = ['left_spacer', 'middle_left_spacer', 'middle_right_spacer', 'right_spacer'], # 'Spacer' columns within Excel file\n",
    "    data = ''\n",
    ")"
   ]
  },
  {
   "cell_type": "code",
   "execution_count": 9,
   "metadata": {},
   "outputs": [],
   "source": [
    "# Concatenate df, empty_df, and empty_df2\n",
    "combined_df = pd.concat([df, empty_df, empty_df2])"
   ]
  },
  {
   "cell_type": "code",
   "execution_count": 10,
   "metadata": {},
   "outputs": [],
   "source": [
    "# Sort combined_df to intersperse empty rows from empty_df\n",
    "combined_df = combined_df.sort_index(kind = 'stable')"
   ]
  },
  {
   "cell_type": "code",
   "execution_count": 11,
   "metadata": {},
   "outputs": [],
   "source": [
    "# # Add 'helper' column to assist with sorting in Excel\n",
    "# combined_df['helper_column'] = ['header_spacer'] + (['text', 'horizontal_spacer_bottom', 'horizontal_spacer_top'] * (int(len(combined_df) / 3) - 1)) + ['text', 'horizontal_spacer_bottom']"
   ]
  },
  {
   "cell_type": "code",
   "execution_count": 12,
   "metadata": {},
   "outputs": [],
   "source": [
    "# Reorder fields\n",
    "combined_df = combined_df[[\n",
    "    'left_spacer',\n",
    "    name_of_field_for_call_number,\n",
    "    'middle_left_spacer',\n",
    "    name_of_field_for_description,\n",
    "    'middle_right_spacer',\n",
    "    desired_name_for_combined_sheet_range_and_scale_field,\n",
    "    'right_spacer',\n",
    "    # 'helper_column'\n",
    "]]"
   ]
  },
  {
   "attachments": {},
   "cell_type": "markdown",
   "metadata": {},
   "source": [
    "#### Write resulting DataFrame back to Excel file"
   ]
  },
  {
   "cell_type": "code",
   "execution_count": 13,
   "metadata": {},
   "outputs": [],
   "source": [
    "# Create a pandas Excel writer using XlsxWriter as the engine\n",
    "writer = pd.ExcelWriter(filename_of_output_labels_spreadsheet, engine = 'xlsxwriter')"
   ]
  },
  {
   "cell_type": "code",
   "execution_count": 14,
   "metadata": {},
   "outputs": [],
   "source": [
    "# Convert the dataframe to an XlsxWriter Excel object\n",
    "combined_df.to_excel(writer, sheet_name = 'map_drawer_labels', index = False, header = False)"
   ]
  },
  {
   "cell_type": "code",
   "execution_count": 15,
   "metadata": {},
   "outputs": [],
   "source": [
    "# Get the XlsxWriter workbook and worksheet objects\n",
    "workbook  = writer.book\n",
    "worksheet = writer.sheets['map_drawer_labels']"
   ]
  },
  {
   "cell_type": "code",
   "execution_count": 16,
   "metadata": {},
   "outputs": [],
   "source": [
    "# workbook = xlsxwriter.Workbook(filename_of_output_labels_spreadsheet)\n",
    "# worksheet = workbook.add_worksheet()"
   ]
  },
  {
   "cell_type": "code",
   "execution_count": 17,
   "metadata": {},
   "outputs": [],
   "source": [
    "# Configure cell formatting\n",
    "cells_without_borders = workbook.add_format({\n",
    "    'align': 'center',\n",
    "    'valign': 'vcenter',\n",
    "    'font_name': 'Calibri',\n",
    "    'font_size': 16,\n",
    "    'font_color': 'black',\n",
    "    'text_wrap': True,\n",
    "    'shrink': True\n",
    "})"
   ]
  },
  {
   "cell_type": "code",
   "execution_count": 18,
   "metadata": {},
   "outputs": [],
   "source": [
    "bottom_border = workbook.add_format({\n",
    "    # 'align': 'center',\n",
    "    # 'valign': 'vcenter',\n",
    "    # 'font_name': 'Calibri',\n",
    "    # 'font_size': 16,\n",
    "    # 'font_color': 'black',\n",
    "    # 'text_wrap': True,\n",
    "    # 'shrink': True,\n",
    "    'bottom': 3\n",
    "})"
   ]
  },
  {
   "cell_type": "code",
   "execution_count": 19,
   "metadata": {},
   "outputs": [],
   "source": [
    "right_border = workbook.add_format({\n",
    "    # 'align': 'center',\n",
    "    # 'valign': 'vcenter',\n",
    "    # 'font_name': 'Calibri',\n",
    "    # 'font_size': 16,\n",
    "    # 'font_color': 'black',\n",
    "    # 'text_wrap': True,\n",
    "    # 'shrink': True,\n",
    "    'right': 3\n",
    "})"
   ]
  },
  {
   "cell_type": "code",
   "execution_count": 20,
   "metadata": {},
   "outputs": [],
   "source": [
    "right_and_bottom_border = workbook.add_format({\n",
    "    'align': 'center',\n",
    "    'valign': 'vcenter',\n",
    "    'font_name': 'Calibri',\n",
    "    'font_size': 16,\n",
    "    'font_color': 'black',\n",
    "    'text_wrap': True,\n",
    "    'shrink': True,\n",
    "    'right': 3,\n",
    "    'bottom': 3\n",
    "})"
   ]
  },
  {
   "cell_type": "code",
   "execution_count": 21,
   "metadata": {},
   "outputs": [],
   "source": [
    "# Set row heights for each label\n",
    "# Width is second argument in .set_row() method and is in character units\n",
    "worksheet.set_row(0, 10)\n",
    "\n",
    "for row in range(1, len(combined_df) + 1, 3):\n",
    "    worksheet.set_row(row, 50, cells_without_borders)\n",
    "\n",
    "for row in range(2, len(combined_df) + 1, 3):\n",
    "    worksheet.set_row(row, 20, bottom_border)\n",
    "\n",
    "for row in range(3, len(combined_df), 3):\n",
    "    worksheet.set_row(row, 20)"
   ]
  },
  {
   "cell_type": "code",
   "execution_count": 22,
   "metadata": {},
   "outputs": [
    {
     "data": {
      "text/plain": [
       "0"
      ]
     },
     "execution_count": 22,
     "metadata": {},
     "output_type": "execute_result"
    }
   ],
   "source": [
    "# Set column widths for each label\n",
    "# Width is third argument and is in character units\n",
    "worksheet.set_column(0, 0, 2) # Column 'A'\n",
    "worksheet.set_column(1, 1, 15) # Column 'B'\n",
    "worksheet.set_column(2, 2, 2) # Column 'C'\n",
    "worksheet.set_column(3, 3, 20) # Column 'D'\n",
    "worksheet.set_column(4, 4, 2) # Column 'E'\n",
    "worksheet.set_column(5, 5, 15) # Column 'F'\n",
    "worksheet.set_column(6, 6, 4, right_border) # Column 'G'"
   ]
  },
  {
   "cell_type": "code",
   "execution_count": 23,
   "metadata": {},
   "outputs": [],
   "source": [
    "# # Apply formatting and bottom and right borders to each label\n",
    "# for i in range(1, len(combined_df), 3):\n",
    "#     worksheet.conditional_format(i, 1, i, 5, {'type': 'cell',\n",
    "#                                               'criteria': '!=',\n",
    "#                                               'value': 9999999999,\n",
    "#                                               'format': cells_without_borders})"
   ]
  },
  {
   "cell_type": "code",
   "execution_count": 24,
   "metadata": {},
   "outputs": [],
   "source": [
    "# # Apply formatting to top row of cells without borders for each label\n",
    "# for i in range(0, len(combined_df) + 1, 3):\n",
    "#     worksheet.conditional_format(i, i, 0, 5, {'type': 'cell',\n",
    "#                                               'criteria': '!=',\n",
    "#                                               'value': '\"It is not likely the value will match this string!\"',\n",
    "#                                               'format': cells_without_borders})"
   ]
  },
  {
   "cell_type": "code",
   "execution_count": 25,
   "metadata": {},
   "outputs": [],
   "source": [
    "# # Apply formatting to middle row of cells without borders for each label\n",
    "# for i in range(1, len(combined_df) + 1, 3):\n",
    "#     worksheet.conditional_format(i, i, 0, 5, {'type': 'cell',\n",
    "#                                               'criteria': '!=',\n",
    "#                                               'value': '\"It is not likely the value will match this string!\"',\n",
    "#                                               'format': cells_without_borders})"
   ]
  },
  {
   "cell_type": "code",
   "execution_count": 26,
   "metadata": {},
   "outputs": [],
   "source": [
    "# # Add bottom border for each label\n",
    "# for i in range(2, len(combined_df) + 1, 3):\n",
    "#     worksheet.conditional_format(i, i, 0, 5, {'type': 'cell',\n",
    "#                                               'criteria': '!=',\n",
    "#                                               'value': '\"It is not likely the value will match this string!\"',\n",
    "#                                               'format': bottom_border})"
   ]
  },
  {
   "cell_type": "code",
   "execution_count": 27,
   "metadata": {},
   "outputs": [],
   "source": [
    "# # Apply formatting and border to top row in last column for each label\n",
    "# for i in range(0, len(combined_df) + 1, 3):\n",
    "#     worksheet.conditional_format(i, i, 6, 6, {'type': 'cell',\n",
    "#                                               'criteria': '!=',\n",
    "#                                               'value': '\"It is not likely the value will match this string!\"',\n",
    "#                                               'format': right_border})"
   ]
  },
  {
   "cell_type": "code",
   "execution_count": 28,
   "metadata": {},
   "outputs": [],
   "source": [
    "# # Apply formatting and border to middle row in last column for each label\n",
    "# for i in range(1, len(combined_df) + 1, 3):\n",
    "#     worksheet.conditional_format(i, i, 6, 6, {'type': 'cell',\n",
    "#                                               'criteria': '!=',\n",
    "#                                               'value': '\"It is not likely the value will match this string!\"',\n",
    "#                                               'format': right_border})"
   ]
  },
  {
   "cell_type": "code",
   "execution_count": 29,
   "metadata": {},
   "outputs": [],
   "source": [
    "# # Add right and bottom border in bottom-right cell for each label\n",
    "# for i in range(2, len(combined_df) + 1, 3):\n",
    "#     worksheet.conditional_format(i, i, 6, 6, {'type': 'cell',\n",
    "#                                               'criteria': '!=',\n",
    "#                                               'value': '\"It is not likely the value will match this string!\"',\n",
    "#                                               'format': right_and_bottom_border})"
   ]
  },
  {
   "cell_type": "code",
   "execution_count": 30,
   "metadata": {},
   "outputs": [],
   "source": [
    "# # Add the format to column 2 (zero-indexed) and adjust the width\n",
    "# worksheet.set_column(2, 2, 15, text_wrap_format)"
   ]
  },
  {
   "cell_type": "code",
   "execution_count": 31,
   "metadata": {},
   "outputs": [],
   "source": [
    "# Set paper size to 11 in. x 17 in.\n",
    "worksheet.set_paper(3)"
   ]
  },
  {
   "cell_type": "code",
   "execution_count": 32,
   "metadata": {},
   "outputs": [],
   "source": [
    "# Set page breaks\n",
    "worksheet.set_h_pagebreaks(range(30, len(combined_df), 30))"
   ]
  },
  {
   "cell_type": "code",
   "execution_count": 33,
   "metadata": {},
   "outputs": [],
   "source": [
    "# Set margins to zero\n",
    "worksheet.set_margins(\n",
    "    left = 0,\n",
    "    right = 0,\n",
    "    top = 0,\n",
    "    bottom = 0\n",
    ")"
   ]
  },
  {
   "cell_type": "code",
   "execution_count": 34,
   "metadata": {},
   "outputs": [
    {
     "data": {
      "text/plain": [
       "0"
      ]
     },
     "execution_count": 34,
     "metadata": {},
     "output_type": "execute_result"
    }
   ],
   "source": [
    "# Set the cells to be printed\n",
    "worksheet.print_area(0, 0, len(combined_df) + 1, 6)"
   ]
  },
  {
   "cell_type": "code",
   "execution_count": 35,
   "metadata": {},
   "outputs": [
    {
     "name": "stderr",
     "output_type": "stream",
     "text": [
      "C:\\Users\\badimond\\AppData\\Local\\Temp\\ipykernel_8528\\2045151010.py:2: FutureWarning: save is not part of the public API, usage can give unexpected results and will be removed in a future version\n",
      "  writer.save()\n"
     ]
    }
   ],
   "source": [
    "# Close the pandas Excel writer, and output the Excel file\n",
    "writer.save()"
   ]
  }
 ],
 "metadata": {
  "kernelspec": {
   "display_name": "base",
   "language": "python",
   "name": "python3"
  },
  "language_info": {
   "codemirror_mode": {
    "name": "ipython",
    "version": 3
   },
   "file_extension": ".py",
   "mimetype": "text/x-python",
   "name": "python",
   "nbconvert_exporter": "python",
   "pygments_lexer": "ipython3",
   "version": "3.10.9"
  },
  "orig_nbformat": 4
 },
 "nbformat": 4,
 "nbformat_minor": 2
}
