{
 "cells": [
  {
   "attachments": {},
   "cell_type": "markdown",
   "metadata": {},
   "source": [
    "Script must be run in same directory as data source (i.e., Excel spreadsheet of map labels)."
   ]
  },
  {
   "cell_type": "code",
   "execution_count": 1,
   "metadata": {},
   "outputs": [],
   "source": [
    "# Define variables; then, run script\n",
    "filename_of_input_labels_spreadsheet = 'labels_spreadsheet_202304.xlsx' # Include file extension\n",
    "name_of_field_for_call_number = 'call_number'\n",
    "name_of_field_for_description = 'description'\n",
    "name_of_field_for_sheet_range = 'sheet_range'\n",
    "name_of_field_for_scale = 'scale'\n",
    "desired_name_for_combined_sheet_range_and_scale_field = 'sheet_range_and_scale'\n",
    "filename_of_output_labels_spreadsheet = 'labels_manipulated.xlsx' # Include file extension"
   ]
  },
  {
   "cell_type": "code",
   "execution_count": 2,
   "metadata": {},
   "outputs": [],
   "source": [
    "# Import required libraries\n",
    "import pandas as pd\n",
    "import xlsxwriter"
   ]
  },
  {
   "cell_type": "code",
   "execution_count": 3,
   "metadata": {},
   "outputs": [],
   "source": [
    "# Read labels Excel spreadsheet into a pandas DataFrame\n",
    "df = pd.read_excel(filename_of_input_labels_spreadsheet)"
   ]
  },
  {
   "cell_type": "code",
   "execution_count": 4,
   "metadata": {},
   "outputs": [],
   "source": [
    "# Remove square brackets from scale field\n",
    "df['scale'] = df['scale'].str.replace('[\\[\\]]', '', regex = True)"
   ]
  },
  {
   "cell_type": "code",
   "execution_count": 5,
   "metadata": {},
   "outputs": [],
   "source": [
    "# Create a boolean mask where True values indicate rows where both sheet_range and scale fields are not null\n",
    "range_and_scale_present = df[[name_of_field_for_sheet_range, name_of_field_for_scale]].isna().apply(lambda x: x.sum(), axis = 1) == 0"
   ]
  },
  {
   "cell_type": "code",
   "execution_count": 6,
   "metadata": {},
   "outputs": [],
   "source": [
    "# Prepend 'Sheets:' and 'Scale:' to values of those fields where both are not null\n",
    "# Insert a new line after these prepended strings\n",
    "df.loc[range_and_scale_present, 'sheet_range'] = df.loc[range_and_scale_present, 'sheet_range'].apply(lambda x: 'Sheets:\\n' + x)\n",
    "df.loc[range_and_scale_present, 'scale'] = df.loc[range_and_scale_present, 'scale'].apply(lambda x: 'Scale:\\n' + x)"
   ]
  },
  {
   "cell_type": "code",
   "execution_count": 7,
   "metadata": {},
   "outputs": [],
   "source": [
    "# Combine values of 'sheet_range' and 'scale' fields, using return to separate values on different lines\n",
    "df[desired_name_for_combined_sheet_range_and_scale_field] = df[[name_of_field_for_sheet_range, name_of_field_for_scale]].apply(\n",
    "    lambda x: '\\n'.join(x.dropna()),\n",
    "    axis = 1\n",
    ")"
   ]
  },
  {
   "cell_type": "code",
   "execution_count": 8,
   "metadata": {},
   "outputs": [],
   "source": [
    "# Drop 'sheet_range' and 'scale' fields, as they are no longer needed\n",
    "df = df.drop(columns = [name_of_field_for_sheet_range, name_of_field_for_scale])"
   ]
  },
  {
   "cell_type": "code",
   "execution_count": 9,
   "metadata": {},
   "outputs": [],
   "source": [
    "# Add empty border columns\n",
    "df.insert(loc = 0, column = 'left_border', value = '')\n",
    "df.insert(loc = 4, column = 'right_border', value = '')"
   ]
  },
  {
   "cell_type": "code",
   "execution_count": 10,
   "metadata": {},
   "outputs": [],
   "source": [
    "# Create two separate dataframes (top and bottom) from original\n",
    "# These will be joined later\n",
    "top_half = df.iloc[:round(len(df) / 2)]\n",
    "bottom_half = df.iloc[round(len(df) / 2):].reset_index(drop = True)"
   ]
  },
  {
   "cell_type": "code",
   "execution_count": 11,
   "metadata": {},
   "outputs": [],
   "source": [
    "# Append '_2' onto column names for bottom half of dataframe\n",
    "# This will indicate fields that belong to the second column of labels\n",
    "bottom_half.columns = [column_name + '_2' for column_name in bottom_half.columns]"
   ]
  },
  {
   "cell_type": "code",
   "execution_count": 12,
   "metadata": {},
   "outputs": [],
   "source": [
    "# Join top and bottom halves of original dataframe\n",
    "two_columns = top_half.merge(bottom_half, how = 'left', left_index = True, right_index = True)"
   ]
  },
  {
   "cell_type": "code",
   "execution_count": 13,
   "metadata": {},
   "outputs": [],
   "source": [
    "# Increment each index value by one\n",
    "two_columns.index = [i + 1 for i in two_columns.index]"
   ]
  },
  {
   "cell_type": "code",
   "execution_count": 14,
   "metadata": {},
   "outputs": [],
   "source": [
    "# Create empty DataFrame\n",
    "empty_df = pd.DataFrame(\n",
    "    index = range(0, len(two_columns)),\n",
    "    columns = two_columns.columns,\n",
    "    data = ''\n",
    ")"
   ]
  },
  {
   "cell_type": "code",
   "execution_count": 15,
   "metadata": {},
   "outputs": [],
   "source": [
    "# Create second empty DataFrame\n",
    "empty_df2 = pd.DataFrame(\n",
    "    index = range(1, len(two_columns) + 1),\n",
    "    columns = two_columns.columns,\n",
    "    data = ''\n",
    ")"
   ]
  },
  {
   "cell_type": "code",
   "execution_count": 16,
   "metadata": {},
   "outputs": [],
   "source": [
    "# Concatenate two_columns, empty_df, and empty_df2\n",
    "combined_df = pd.concat([two_columns, empty_df, empty_df2])"
   ]
  },
  {
   "cell_type": "code",
   "execution_count": 17,
   "metadata": {},
   "outputs": [],
   "source": [
    "# Sort combined_df to intersperse empty rows from empty_df\n",
    "combined_df = combined_df.sort_index(kind = 'stable')"
   ]
  },
  {
   "attachments": {},
   "cell_type": "markdown",
   "metadata": {},
   "source": [
    "#### Write resulting DataFrame back to Excel file"
   ]
  },
  {
   "cell_type": "code",
   "execution_count": 18,
   "metadata": {},
   "outputs": [],
   "source": [
    "# Create a pandas Excel writer using XlsxWriter as the engine\n",
    "writer = pd.ExcelWriter(filename_of_output_labels_spreadsheet, engine = 'xlsxwriter')"
   ]
  },
  {
   "cell_type": "code",
   "execution_count": 19,
   "metadata": {},
   "outputs": [],
   "source": [
    "# Convert the dataframe to an XlsxWriter Excel object\n",
    "combined_df.to_excel(writer, sheet_name = 'map_drawer_labels', index = False, header = False)"
   ]
  },
  {
   "cell_type": "code",
   "execution_count": 20,
   "metadata": {},
   "outputs": [],
   "source": [
    "# Define XlsxWriter workbook and worksheet objects\n",
    "workbook  = writer.book\n",
    "worksheet = writer.sheets['map_drawer_labels']"
   ]
  },
  {
   "cell_type": "code",
   "execution_count": 21,
   "metadata": {},
   "outputs": [],
   "source": [
    "# Configure cell formatting\n",
    "cells_without_borders = workbook.add_format({\n",
    "    'align': 'center',\n",
    "    'valign': 'vcenter',\n",
    "    'font_name': 'Calibri',\n",
    "    'font_size': 16,\n",
    "    'font_color': 'black',\n",
    "    'text_wrap': True,\n",
    "    'shrink': True\n",
    "})\n",
    "\n",
    "right_border = workbook.add_format({'right': 3})\n",
    "\n",
    "bottom_border = workbook.add_format({'bottom': 3})"
   ]
  },
  {
   "cell_type": "code",
   "execution_count": 22,
   "metadata": {},
   "outputs": [],
   "source": [
    "# Set row heights for each label\n",
    "# Width is second argument in .set_row() method and is in character units\n",
    "worksheet.set_row(0, 5)\n",
    "\n",
    "for row in range(1, len(combined_df) + 1, 3):\n",
    "    worksheet.set_row(row, 70, cells_without_borders)\n",
    "\n",
    "for row in range(2, len(combined_df) + 1, 3):\n",
    "    worksheet.set_row(row, 10, bottom_border)\n",
    "\n",
    "for row in range(3, len(combined_df), 3):\n",
    "    worksheet.set_row(row, 10)"
   ]
  },
  {
   "cell_type": "code",
   "execution_count": 23,
   "metadata": {},
   "outputs": [
    {
     "data": {
      "text/plain": [
       "0"
      ]
     },
     "execution_count": 23,
     "metadata": {},
     "output_type": "execute_result"
    }
   ],
   "source": [
    "# Set column widths for each label\n",
    "# Width is third argument and is in character units\n",
    "worksheet.set_column(0, 0, 0) # 'left_border' column\n",
    "worksheet.set_column(1, 1, 17) # 'call_number' column\n",
    "worksheet.set_column(2, 2, 20) # 'description' column\n",
    "worksheet.set_column(3, 3, 17) # 'sheet_range_and_scale' column\n",
    "worksheet.set_column(4, 4, 2, right_border) # 'right_border' column\n",
    "worksheet.set_column(5, 5, 2) # 'left_border_2' column\n",
    "worksheet.set_column(6, 6, 17) # 'call_number_2' column\n",
    "worksheet.set_column(7, 7, 20) # 'description_2' column\n",
    "worksheet.set_column(8, 8, 17) # 'sheet_range_and_scale_2' column\n",
    "worksheet.set_column(9, 9, 2, right_border) # 'right_border_2' column"
   ]
  },
  {
   "cell_type": "code",
   "execution_count": 24,
   "metadata": {},
   "outputs": [],
   "source": [
    "# Set paper size to 11 in. x 17 in.\n",
    "worksheet.set_paper(3)"
   ]
  },
  {
   "cell_type": "code",
   "execution_count": 25,
   "metadata": {},
   "outputs": [],
   "source": [
    "# Set page breaks\n",
    "worksheet.set_h_pagebreaks(range(30, len(combined_df), 30))"
   ]
  },
  {
   "cell_type": "code",
   "execution_count": 26,
   "metadata": {},
   "outputs": [],
   "source": [
    "# Set margins to zero\n",
    "worksheet.set_margins(\n",
    "    left = 0,\n",
    "    right = 0,\n",
    "    top = 0,\n",
    "    bottom = 0\n",
    ")"
   ]
  },
  {
   "cell_type": "code",
   "execution_count": 27,
   "metadata": {},
   "outputs": [
    {
     "data": {
      "text/plain": [
       "0"
      ]
     },
     "execution_count": 27,
     "metadata": {},
     "output_type": "execute_result"
    }
   ],
   "source": [
    "# Set the cells to be printed\n",
    "worksheet.print_area(0, 0, len(combined_df) + 1, 9)"
   ]
  },
  {
   "cell_type": "code",
   "execution_count": 28,
   "metadata": {},
   "outputs": [],
   "source": [
    "# Close the pandas Excel writer, and output the Excel file\n",
    "writer.close()"
   ]
  }
 ],
 "metadata": {
  "kernelspec": {
   "display_name": "base",
   "language": "python",
   "name": "python3"
  },
  "language_info": {
   "codemirror_mode": {
    "name": "ipython",
    "version": 3
   },
   "file_extension": ".py",
   "mimetype": "text/x-python",
   "name": "python",
   "nbconvert_exporter": "python",
   "pygments_lexer": "ipython3",
   "version": "3.10.9"
  },
  "orig_nbformat": 4
 },
 "nbformat": 4,
 "nbformat_minor": 2
}
